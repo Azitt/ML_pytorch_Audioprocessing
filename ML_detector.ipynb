{
  "nbformat": 4,
  "nbformat_minor": 0,
  "metadata": {
    "colab": {
      "name": "ML_detector.ipynb",
      "provenance": [],
      "authorship_tag": "ABX9TyP1fB+F/Vo9+BkBFWh+2Pxo"
    },
    "kernelspec": {
      "name": "python3",
      "display_name": "Python 3"
    },
    "language_info": {
      "name": "python"
    }
  },
  "cells": [
    {
      "cell_type": "code",
      "execution_count": 1,
      "metadata": {
        "id": "ZGMX8tK37um6"
      },
      "outputs": [],
      "source": [
        "import torch\n",
        "import torch.nn as nn\n",
        "device='cpu'\n",
        "#device='cuda'"
      ]
    },
    {
      "cell_type": "code",
      "source": [
        "class LinNet(nn.Module):\n",
        "    def __init__(self):\n",
        "        super(LinNet, self).__init__()\n",
        "        # Define the model.\n",
        "        self.layer1 = nn.Sequential(nn.Linear(in_features=2, out_features=2, bias=True))\n",
        "        # Generate a fully connected linear neural network model, 1 layer, bias, linear activation function\n",
        "        # returns: Trainable object\n",
        "        #self.act = nn.LeakyReLU() #non-linear activation function\n",
        "        #self.act = nn.ReLU() #non-linear activation function\n",
        "    \n",
        "    def forward(self, x):\n",
        "        out = self.layer1(x)\n",
        "        #out = self.act(out) #comment out if not desired\n",
        "        return out"
      ],
      "metadata": {
        "id": "FpG8F4_78DQ9"
      },
      "execution_count": 2,
      "outputs": []
    },
    {
      "cell_type": "markdown",
      "source": [
        "Data_preparation"
      ],
      "metadata": {
        "id": "tTZc--5m8Qba"
      }
    },
    {
      "cell_type": "code",
      "source": [
        "#input tensor, type torch tensor:\n",
        "#Indices: batch, sample, features or signal dimension. Here: 1 batch, 3 samples, signal dimension 2:\n",
        "\n",
        "#Training set:\n",
        "X=torch.tensor([[1., 2.], [2., 1.],[1., 1.]]).view(1,3,2) #adding the first dimension for the batch\n",
        "print(\"X.shape\", X.shape)\n",
        "\n",
        "#Target:\n",
        "Y=torch.tensor([[1., 0.], [0., 1.],[0., 0.]]).view(1,3,2)\n",
        "print(\"Y.shape\", Y.shape)\n",
        "\n",
        "#Validation set, to test generalization:\n",
        "Xval=torch.tensor([[0.5, 1.0], [1., 0.5],[0.5, 0.5]]).view(1,3,2)\n",
        "#Validation Target:\n",
        "Yval=torch.tensor([[1., 0.], [0., 1.],[0., 0.]]).view(1,3,2)"
      ],
      "metadata": {
        "colab": {
          "base_uri": "https://localhost:8080/"
        },
        "id": "RNG7TZr98Tip",
        "outputId": "93edd848-89d7-4c53-97e0-6dc52758ad23"
      },
      "execution_count": 3,
      "outputs": [
        {
          "output_type": "stream",
          "name": "stdout",
          "text": [
            "X.shape torch.Size([1, 3, 2])\n",
            "Y.shape torch.Size([1, 3, 2])\n"
          ]
        }
      ]
    },
    {
      "cell_type": "code",
      "source": [
        "#create network object:\n",
        "model = LinNet().to(device)\n",
        "loss_fn = nn.MSELoss()\n",
        "print(\"Define loss function:\", loss_fn)\n",
        "#learning_rate = 1e-4\n",
        "#optimizer = torch.optim.Adam(model.parameters())\n",
        "optimizer = torch.optim.SGD(model.parameters(),lr=0.1)\n",
        "print(\"Define optimizer:\", optimizer)"
      ],
      "metadata": {
        "colab": {
          "base_uri": "https://localhost:8080/"
        },
        "id": "M3KJ3fPW8s87",
        "outputId": "9104a8b4-4160-4d46-a301-79b16ea39c41"
      },
      "execution_count": 5,
      "outputs": [
        {
          "output_type": "stream",
          "name": "stdout",
          "text": [
            "Define loss function: MSELoss()\n",
            "Define optimizer: SGD (\n",
            "Parameter Group 0\n",
            "    dampening: 0\n",
            "    lr: 0.1\n",
            "    momentum: 0\n",
            "    nesterov: False\n",
            "    weight_decay: 0\n",
            ")\n"
          ]
        }
      ]
    },
    {
      "cell_type": "code",
      "source": [
        "for epoch in range(10000):\n",
        "    Ypred=model(X) #the model produces prediction output\n",
        "    loss=loss_fn(Ypred, Y) #prediction and target compared by loss\n",
        "    if epoch%1000==0:\n",
        "        print(epoch, loss.item()) #print current loss value\n",
        "    optimizer.zero_grad() #optimizer sets previous gradients to zero\n",
        "    loss.backward() #optimizer computes new gradients\n",
        "    optimizer.step() #optimizer updates weights"
      ],
      "metadata": {
        "colab": {
          "base_uri": "https://localhost:8080/"
        },
        "id": "3W5YkwgZ80jJ",
        "outputId": "98c8c6e3-eee8-453b-a157-fd803616338f"
      },
      "execution_count": 6,
      "outputs": [
        {
          "output_type": "stream",
          "name": "stdout",
          "text": [
            "0 1.3473855257034302\n",
            "1000 0.00042512454092502594\n",
            "2000 3.525961801642552e-06\n",
            "3000 2.926994291385654e-08\n",
            "4000 2.440122270908063e-10\n",
            "5000 4.4426684553400264e-12\n",
            "6000 4.4426684553400264e-12\n",
            "7000 4.4426684553400264e-12\n",
            "8000 4.4426684553400264e-12\n",
            "9000 4.4426684553400264e-12\n"
          ]
        }
      ]
    },
    {
      "cell_type": "code",
      "source": [
        "Ypred=model(X) # Make Predictions based on the obtained weights\n",
        "loss=loss_fn(Ypred, Y)\n",
        "print(\"Loss on trainig set:\", loss)\n",
        "Yvalpred=model(Xval) # Make Predictions based on the obtained weights\n",
        "loss=loss_fn(Yvalpred, Yval)\n",
        "print(\"Loss on validation set:\", loss)\n",
        "weights = model.state_dict() #read obtained weights"
      ],
      "metadata": {
        "colab": {
          "base_uri": "https://localhost:8080/"
        },
        "id": "yaaQiyMN9KqZ",
        "outputId": "d4ad51f2-90cb-4d06-a77b-33a5b9b8fd56"
      },
      "execution_count": 11,
      "outputs": [
        {
          "output_type": "stream",
          "name": "stdout",
          "text": [
            "Loss on trainig set: tensor(4.4427e-12, grad_fn=<MseLossBackward0>)\n",
            "Loss on validation set: tensor(0.5000, grad_fn=<MseLossBackward0>)\n"
          ]
        }
      ]
    },
    {
      "cell_type": "markdown",
      "source": [
        "The loss values: Only **4.6493e-12** on the **training se**t, but **0.5000** on the **validation** set Hence we have a **bad generalization**."
      ],
      "metadata": {
        "id": "FBBt6Vwb9_qc"
      }
    },
    {
      "cell_type": "code",
      "source": [
        ""
      ],
      "metadata": {
        "id": "a0crL1KL-QDS"
      },
      "execution_count": null,
      "outputs": []
    }
  ]
}