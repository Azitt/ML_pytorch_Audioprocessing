{
  "nbformat": 4,
  "nbformat_minor": 0,
  "metadata": {
    "colab": {
      "name": "ML_Classification.ipynb",
      "provenance": [],
      "authorship_tag": "ABX9TyMIEZ3aC4IlCerK2GAxwOxw",
      "include_colab_link": true
    },
    "kernelspec": {
      "name": "python3",
      "display_name": "Python 3"
    },
    "language_info": {
      "name": "python"
    },
    "widgets": {
      "application/vnd.jupyter.widget-state+json": {
        "771718449a2e475b8e665ff6be3123b7": {
          "model_module": "@jupyter-widgets/controls",
          "model_name": "HBoxModel",
          "model_module_version": "1.5.0",
          "state": {
            "_view_name": "HBoxView",
            "_dom_classes": [],
            "_model_name": "HBoxModel",
            "_view_module": "@jupyter-widgets/controls",
            "_model_module_version": "1.5.0",
            "_view_count": null,
            "_view_module_version": "1.5.0",
            "box_style": "",
            "layout": "IPY_MODEL_cce11395950943908ec57c23cefa0b29",
            "_model_module": "@jupyter-widgets/controls",
            "children": [
              "IPY_MODEL_06a813eaa5f24f5693bacfd7127e003e",
              "IPY_MODEL_ba123c7ee2d04099b428a00a7232a3ee",
              "IPY_MODEL_d1e9d7212ebd479a8649b5f94e1f3f13"
            ]
          }
        },
        "cce11395950943908ec57c23cefa0b29": {
          "model_module": "@jupyter-widgets/base",
          "model_name": "LayoutModel",
          "model_module_version": "1.2.0",
          "state": {
            "_view_name": "LayoutView",
            "grid_template_rows": null,
            "right": null,
            "justify_content": null,
            "_view_module": "@jupyter-widgets/base",
            "overflow": null,
            "_model_module_version": "1.2.0",
            "_view_count": null,
            "flex_flow": null,
            "width": null,
            "min_width": null,
            "border": null,
            "align_items": null,
            "bottom": null,
            "_model_module": "@jupyter-widgets/base",
            "top": null,
            "grid_column": null,
            "overflow_y": null,
            "overflow_x": null,
            "grid_auto_flow": null,
            "grid_area": null,
            "grid_template_columns": null,
            "flex": null,
            "_model_name": "LayoutModel",
            "justify_items": null,
            "grid_row": null,
            "max_height": null,
            "align_content": null,
            "visibility": null,
            "align_self": null,
            "height": null,
            "min_height": null,
            "padding": null,
            "grid_auto_rows": null,
            "grid_gap": null,
            "max_width": null,
            "order": null,
            "_view_module_version": "1.2.0",
            "grid_template_areas": null,
            "object_position": null,
            "object_fit": null,
            "grid_auto_columns": null,
            "margin": null,
            "display": null,
            "left": null
          }
        },
        "06a813eaa5f24f5693bacfd7127e003e": {
          "model_module": "@jupyter-widgets/controls",
          "model_name": "HTMLModel",
          "model_module_version": "1.5.0",
          "state": {
            "_view_name": "HTMLView",
            "style": "IPY_MODEL_1b2ccdf8bf4d450c9394de753e5c1be3",
            "_dom_classes": [],
            "description": "",
            "_model_name": "HTMLModel",
            "placeholder": "​",
            "_view_module": "@jupyter-widgets/controls",
            "_model_module_version": "1.5.0",
            "value": "",
            "_view_count": null,
            "_view_module_version": "1.5.0",
            "description_tooltip": null,
            "_model_module": "@jupyter-widgets/controls",
            "layout": "IPY_MODEL_ea91269f26674a9b8a38ceeef3f034a0"
          }
        },
        "ba123c7ee2d04099b428a00a7232a3ee": {
          "model_module": "@jupyter-widgets/controls",
          "model_name": "FloatProgressModel",
          "model_module_version": "1.5.0",
          "state": {
            "_view_name": "ProgressView",
            "style": "IPY_MODEL_213f40ca5b52453cb18e9124bc0738bb",
            "_dom_classes": [],
            "description": "",
            "_model_name": "FloatProgressModel",
            "bar_style": "success",
            "max": 9912422,
            "_view_module": "@jupyter-widgets/controls",
            "_model_module_version": "1.5.0",
            "value": 9912422,
            "_view_count": null,
            "_view_module_version": "1.5.0",
            "orientation": "horizontal",
            "min": 0,
            "description_tooltip": null,
            "_model_module": "@jupyter-widgets/controls",
            "layout": "IPY_MODEL_431b67a5cc7a40778deeefce13941fb7"
          }
        },
        "d1e9d7212ebd479a8649b5f94e1f3f13": {
          "model_module": "@jupyter-widgets/controls",
          "model_name": "HTMLModel",
          "model_module_version": "1.5.0",
          "state": {
            "_view_name": "HTMLView",
            "style": "IPY_MODEL_6a1d9611e15e46c395ffcc8c850187fc",
            "_dom_classes": [],
            "description": "",
            "_model_name": "HTMLModel",
            "placeholder": "​",
            "_view_module": "@jupyter-widgets/controls",
            "_model_module_version": "1.5.0",
            "value": " 9913344/? [00:00&lt;00:00, 20725414.77it/s]",
            "_view_count": null,
            "_view_module_version": "1.5.0",
            "description_tooltip": null,
            "_model_module": "@jupyter-widgets/controls",
            "layout": "IPY_MODEL_93dfeb0a1f3640bf839403e4cfd38e34"
          }
        },
        "1b2ccdf8bf4d450c9394de753e5c1be3": {
          "model_module": "@jupyter-widgets/controls",
          "model_name": "DescriptionStyleModel",
          "model_module_version": "1.5.0",
          "state": {
            "_view_name": "StyleView",
            "_model_name": "DescriptionStyleModel",
            "description_width": "",
            "_view_module": "@jupyter-widgets/base",
            "_model_module_version": "1.5.0",
            "_view_count": null,
            "_view_module_version": "1.2.0",
            "_model_module": "@jupyter-widgets/controls"
          }
        },
        "ea91269f26674a9b8a38ceeef3f034a0": {
          "model_module": "@jupyter-widgets/base",
          "model_name": "LayoutModel",
          "model_module_version": "1.2.0",
          "state": {
            "_view_name": "LayoutView",
            "grid_template_rows": null,
            "right": null,
            "justify_content": null,
            "_view_module": "@jupyter-widgets/base",
            "overflow": null,
            "_model_module_version": "1.2.0",
            "_view_count": null,
            "flex_flow": null,
            "width": null,
            "min_width": null,
            "border": null,
            "align_items": null,
            "bottom": null,
            "_model_module": "@jupyter-widgets/base",
            "top": null,
            "grid_column": null,
            "overflow_y": null,
            "overflow_x": null,
            "grid_auto_flow": null,
            "grid_area": null,
            "grid_template_columns": null,
            "flex": null,
            "_model_name": "LayoutModel",
            "justify_items": null,
            "grid_row": null,
            "max_height": null,
            "align_content": null,
            "visibility": null,
            "align_self": null,
            "height": null,
            "min_height": null,
            "padding": null,
            "grid_auto_rows": null,
            "grid_gap": null,
            "max_width": null,
            "order": null,
            "_view_module_version": "1.2.0",
            "grid_template_areas": null,
            "object_position": null,
            "object_fit": null,
            "grid_auto_columns": null,
            "margin": null,
            "display": null,
            "left": null
          }
        },
        "213f40ca5b52453cb18e9124bc0738bb": {
          "model_module": "@jupyter-widgets/controls",
          "model_name": "ProgressStyleModel",
          "model_module_version": "1.5.0",
          "state": {
            "_view_name": "StyleView",
            "_model_name": "ProgressStyleModel",
            "description_width": "",
            "_view_module": "@jupyter-widgets/base",
            "_model_module_version": "1.5.0",
            "_view_count": null,
            "_view_module_version": "1.2.0",
            "bar_color": null,
            "_model_module": "@jupyter-widgets/controls"
          }
        },
        "431b67a5cc7a40778deeefce13941fb7": {
          "model_module": "@jupyter-widgets/base",
          "model_name": "LayoutModel",
          "model_module_version": "1.2.0",
          "state": {
            "_view_name": "LayoutView",
            "grid_template_rows": null,
            "right": null,
            "justify_content": null,
            "_view_module": "@jupyter-widgets/base",
            "overflow": null,
            "_model_module_version": "1.2.0",
            "_view_count": null,
            "flex_flow": null,
            "width": null,
            "min_width": null,
            "border": null,
            "align_items": null,
            "bottom": null,
            "_model_module": "@jupyter-widgets/base",
            "top": null,
            "grid_column": null,
            "overflow_y": null,
            "overflow_x": null,
            "grid_auto_flow": null,
            "grid_area": null,
            "grid_template_columns": null,
            "flex": null,
            "_model_name": "LayoutModel",
            "justify_items": null,
            "grid_row": null,
            "max_height": null,
            "align_content": null,
            "visibility": null,
            "align_self": null,
            "height": null,
            "min_height": null,
            "padding": null,
            "grid_auto_rows": null,
            "grid_gap": null,
            "max_width": null,
            "order": null,
            "_view_module_version": "1.2.0",
            "grid_template_areas": null,
            "object_position": null,
            "object_fit": null,
            "grid_auto_columns": null,
            "margin": null,
            "display": null,
            "left": null
          }
        },
        "6a1d9611e15e46c395ffcc8c850187fc": {
          "model_module": "@jupyter-widgets/controls",
          "model_name": "DescriptionStyleModel",
          "model_module_version": "1.5.0",
          "state": {
            "_view_name": "StyleView",
            "_model_name": "DescriptionStyleModel",
            "description_width": "",
            "_view_module": "@jupyter-widgets/base",
            "_model_module_version": "1.5.0",
            "_view_count": null,
            "_view_module_version": "1.2.0",
            "_model_module": "@jupyter-widgets/controls"
          }
        },
        "93dfeb0a1f3640bf839403e4cfd38e34": {
          "model_module": "@jupyter-widgets/base",
          "model_name": "LayoutModel",
          "model_module_version": "1.2.0",
          "state": {
            "_view_name": "LayoutView",
            "grid_template_rows": null,
            "right": null,
            "justify_content": null,
            "_view_module": "@jupyter-widgets/base",
            "overflow": null,
            "_model_module_version": "1.2.0",
            "_view_count": null,
            "flex_flow": null,
            "width": null,
            "min_width": null,
            "border": null,
            "align_items": null,
            "bottom": null,
            "_model_module": "@jupyter-widgets/base",
            "top": null,
            "grid_column": null,
            "overflow_y": null,
            "overflow_x": null,
            "grid_auto_flow": null,
            "grid_area": null,
            "grid_template_columns": null,
            "flex": null,
            "_model_name": "LayoutModel",
            "justify_items": null,
            "grid_row": null,
            "max_height": null,
            "align_content": null,
            "visibility": null,
            "align_self": null,
            "height": null,
            "min_height": null,
            "padding": null,
            "grid_auto_rows": null,
            "grid_gap": null,
            "max_width": null,
            "order": null,
            "_view_module_version": "1.2.0",
            "grid_template_areas": null,
            "object_position": null,
            "object_fit": null,
            "grid_auto_columns": null,
            "margin": null,
            "display": null,
            "left": null
          }
        },
        "c04a55e3e5b84434bfb7e44a7935449e": {
          "model_module": "@jupyter-widgets/controls",
          "model_name": "HBoxModel",
          "model_module_version": "1.5.0",
          "state": {
            "_view_name": "HBoxView",
            "_dom_classes": [],
            "_model_name": "HBoxModel",
            "_view_module": "@jupyter-widgets/controls",
            "_model_module_version": "1.5.0",
            "_view_count": null,
            "_view_module_version": "1.5.0",
            "box_style": "",
            "layout": "IPY_MODEL_a9c5343ca3c64462b4233661216af8d8",
            "_model_module": "@jupyter-widgets/controls",
            "children": [
              "IPY_MODEL_250c6f32b5f84fd383e6d33f2ff72a84",
              "IPY_MODEL_fc21ab662a2c4d88a79e6ea36a278ea2",
              "IPY_MODEL_c03b4968163e4a2ca4c26301b7945ded"
            ]
          }
        },
        "a9c5343ca3c64462b4233661216af8d8": {
          "model_module": "@jupyter-widgets/base",
          "model_name": "LayoutModel",
          "model_module_version": "1.2.0",
          "state": {
            "_view_name": "LayoutView",
            "grid_template_rows": null,
            "right": null,
            "justify_content": null,
            "_view_module": "@jupyter-widgets/base",
            "overflow": null,
            "_model_module_version": "1.2.0",
            "_view_count": null,
            "flex_flow": null,
            "width": null,
            "min_width": null,
            "border": null,
            "align_items": null,
            "bottom": null,
            "_model_module": "@jupyter-widgets/base",
            "top": null,
            "grid_column": null,
            "overflow_y": null,
            "overflow_x": null,
            "grid_auto_flow": null,
            "grid_area": null,
            "grid_template_columns": null,
            "flex": null,
            "_model_name": "LayoutModel",
            "justify_items": null,
            "grid_row": null,
            "max_height": null,
            "align_content": null,
            "visibility": null,
            "align_self": null,
            "height": null,
            "min_height": null,
            "padding": null,
            "grid_auto_rows": null,
            "grid_gap": null,
            "max_width": null,
            "order": null,
            "_view_module_version": "1.2.0",
            "grid_template_areas": null,
            "object_position": null,
            "object_fit": null,
            "grid_auto_columns": null,
            "margin": null,
            "display": null,
            "left": null
          }
        },
        "250c6f32b5f84fd383e6d33f2ff72a84": {
          "model_module": "@jupyter-widgets/controls",
          "model_name": "HTMLModel",
          "model_module_version": "1.5.0",
          "state": {
            "_view_name": "HTMLView",
            "style": "IPY_MODEL_3282e359624e421aac03f2528887d106",
            "_dom_classes": [],
            "description": "",
            "_model_name": "HTMLModel",
            "placeholder": "​",
            "_view_module": "@jupyter-widgets/controls",
            "_model_module_version": "1.5.0",
            "value": "",
            "_view_count": null,
            "_view_module_version": "1.5.0",
            "description_tooltip": null,
            "_model_module": "@jupyter-widgets/controls",
            "layout": "IPY_MODEL_3210d70881a140d49339e8e8aae218da"
          }
        },
        "fc21ab662a2c4d88a79e6ea36a278ea2": {
          "model_module": "@jupyter-widgets/controls",
          "model_name": "FloatProgressModel",
          "model_module_version": "1.5.0",
          "state": {
            "_view_name": "ProgressView",
            "style": "IPY_MODEL_290767e6897848608f5255d16c324535",
            "_dom_classes": [],
            "description": "",
            "_model_name": "FloatProgressModel",
            "bar_style": "success",
            "max": 28881,
            "_view_module": "@jupyter-widgets/controls",
            "_model_module_version": "1.5.0",
            "value": 28881,
            "_view_count": null,
            "_view_module_version": "1.5.0",
            "orientation": "horizontal",
            "min": 0,
            "description_tooltip": null,
            "_model_module": "@jupyter-widgets/controls",
            "layout": "IPY_MODEL_1e9ef6590a8c48eb9b3ebe83e0cfab8d"
          }
        },
        "c03b4968163e4a2ca4c26301b7945ded": {
          "model_module": "@jupyter-widgets/controls",
          "model_name": "HTMLModel",
          "model_module_version": "1.5.0",
          "state": {
            "_view_name": "HTMLView",
            "style": "IPY_MODEL_f44ff7813fae48a8b040282016bb1122",
            "_dom_classes": [],
            "description": "",
            "_model_name": "HTMLModel",
            "placeholder": "​",
            "_view_module": "@jupyter-widgets/controls",
            "_model_module_version": "1.5.0",
            "value": " 29696/? [00:00&lt;00:00, 523584.94it/s]",
            "_view_count": null,
            "_view_module_version": "1.5.0",
            "description_tooltip": null,
            "_model_module": "@jupyter-widgets/controls",
            "layout": "IPY_MODEL_dc961e66b407487c92a87165878cb962"
          }
        },
        "3282e359624e421aac03f2528887d106": {
          "model_module": "@jupyter-widgets/controls",
          "model_name": "DescriptionStyleModel",
          "model_module_version": "1.5.0",
          "state": {
            "_view_name": "StyleView",
            "_model_name": "DescriptionStyleModel",
            "description_width": "",
            "_view_module": "@jupyter-widgets/base",
            "_model_module_version": "1.5.0",
            "_view_count": null,
            "_view_module_version": "1.2.0",
            "_model_module": "@jupyter-widgets/controls"
          }
        },
        "3210d70881a140d49339e8e8aae218da": {
          "model_module": "@jupyter-widgets/base",
          "model_name": "LayoutModel",
          "model_module_version": "1.2.0",
          "state": {
            "_view_name": "LayoutView",
            "grid_template_rows": null,
            "right": null,
            "justify_content": null,
            "_view_module": "@jupyter-widgets/base",
            "overflow": null,
            "_model_module_version": "1.2.0",
            "_view_count": null,
            "flex_flow": null,
            "width": null,
            "min_width": null,
            "border": null,
            "align_items": null,
            "bottom": null,
            "_model_module": "@jupyter-widgets/base",
            "top": null,
            "grid_column": null,
            "overflow_y": null,
            "overflow_x": null,
            "grid_auto_flow": null,
            "grid_area": null,
            "grid_template_columns": null,
            "flex": null,
            "_model_name": "LayoutModel",
            "justify_items": null,
            "grid_row": null,
            "max_height": null,
            "align_content": null,
            "visibility": null,
            "align_self": null,
            "height": null,
            "min_height": null,
            "padding": null,
            "grid_auto_rows": null,
            "grid_gap": null,
            "max_width": null,
            "order": null,
            "_view_module_version": "1.2.0",
            "grid_template_areas": null,
            "object_position": null,
            "object_fit": null,
            "grid_auto_columns": null,
            "margin": null,
            "display": null,
            "left": null
          }
        },
        "290767e6897848608f5255d16c324535": {
          "model_module": "@jupyter-widgets/controls",
          "model_name": "ProgressStyleModel",
          "model_module_version": "1.5.0",
          "state": {
            "_view_name": "StyleView",
            "_model_name": "ProgressStyleModel",
            "description_width": "",
            "_view_module": "@jupyter-widgets/base",
            "_model_module_version": "1.5.0",
            "_view_count": null,
            "_view_module_version": "1.2.0",
            "bar_color": null,
            "_model_module": "@jupyter-widgets/controls"
          }
        },
        "1e9ef6590a8c48eb9b3ebe83e0cfab8d": {
          "model_module": "@jupyter-widgets/base",
          "model_name": "LayoutModel",
          "model_module_version": "1.2.0",
          "state": {
            "_view_name": "LayoutView",
            "grid_template_rows": null,
            "right": null,
            "justify_content": null,
            "_view_module": "@jupyter-widgets/base",
            "overflow": null,
            "_model_module_version": "1.2.0",
            "_view_count": null,
            "flex_flow": null,
            "width": null,
            "min_width": null,
            "border": null,
            "align_items": null,
            "bottom": null,
            "_model_module": "@jupyter-widgets/base",
            "top": null,
            "grid_column": null,
            "overflow_y": null,
            "overflow_x": null,
            "grid_auto_flow": null,
            "grid_area": null,
            "grid_template_columns": null,
            "flex": null,
            "_model_name": "LayoutModel",
            "justify_items": null,
            "grid_row": null,
            "max_height": null,
            "align_content": null,
            "visibility": null,
            "align_self": null,
            "height": null,
            "min_height": null,
            "padding": null,
            "grid_auto_rows": null,
            "grid_gap": null,
            "max_width": null,
            "order": null,
            "_view_module_version": "1.2.0",
            "grid_template_areas": null,
            "object_position": null,
            "object_fit": null,
            "grid_auto_columns": null,
            "margin": null,
            "display": null,
            "left": null
          }
        },
        "f44ff7813fae48a8b040282016bb1122": {
          "model_module": "@jupyter-widgets/controls",
          "model_name": "DescriptionStyleModel",
          "model_module_version": "1.5.0",
          "state": {
            "_view_name": "StyleView",
            "_model_name": "DescriptionStyleModel",
            "description_width": "",
            "_view_module": "@jupyter-widgets/base",
            "_model_module_version": "1.5.0",
            "_view_count": null,
            "_view_module_version": "1.2.0",
            "_model_module": "@jupyter-widgets/controls"
          }
        },
        "dc961e66b407487c92a87165878cb962": {
          "model_module": "@jupyter-widgets/base",
          "model_name": "LayoutModel",
          "model_module_version": "1.2.0",
          "state": {
            "_view_name": "LayoutView",
            "grid_template_rows": null,
            "right": null,
            "justify_content": null,
            "_view_module": "@jupyter-widgets/base",
            "overflow": null,
            "_model_module_version": "1.2.0",
            "_view_count": null,
            "flex_flow": null,
            "width": null,
            "min_width": null,
            "border": null,
            "align_items": null,
            "bottom": null,
            "_model_module": "@jupyter-widgets/base",
            "top": null,
            "grid_column": null,
            "overflow_y": null,
            "overflow_x": null,
            "grid_auto_flow": null,
            "grid_area": null,
            "grid_template_columns": null,
            "flex": null,
            "_model_name": "LayoutModel",
            "justify_items": null,
            "grid_row": null,
            "max_height": null,
            "align_content": null,
            "visibility": null,
            "align_self": null,
            "height": null,
            "min_height": null,
            "padding": null,
            "grid_auto_rows": null,
            "grid_gap": null,
            "max_width": null,
            "order": null,
            "_view_module_version": "1.2.0",
            "grid_template_areas": null,
            "object_position": null,
            "object_fit": null,
            "grid_auto_columns": null,
            "margin": null,
            "display": null,
            "left": null
          }
        },
        "44d689754f814089a61a0cde9d29b1a6": {
          "model_module": "@jupyter-widgets/controls",
          "model_name": "HBoxModel",
          "model_module_version": "1.5.0",
          "state": {
            "_view_name": "HBoxView",
            "_dom_classes": [],
            "_model_name": "HBoxModel",
            "_view_module": "@jupyter-widgets/controls",
            "_model_module_version": "1.5.0",
            "_view_count": null,
            "_view_module_version": "1.5.0",
            "box_style": "",
            "layout": "IPY_MODEL_2291d1baa4d6473daa71f9abd6a3e3d8",
            "_model_module": "@jupyter-widgets/controls",
            "children": [
              "IPY_MODEL_36b6d392446d46a2b15a725e6243625c",
              "IPY_MODEL_94857abe58c74b30bf608815e3cb4183",
              "IPY_MODEL_a6a1f84646b74ba482d43b668a015108"
            ]
          }
        },
        "2291d1baa4d6473daa71f9abd6a3e3d8": {
          "model_module": "@jupyter-widgets/base",
          "model_name": "LayoutModel",
          "model_module_version": "1.2.0",
          "state": {
            "_view_name": "LayoutView",
            "grid_template_rows": null,
            "right": null,
            "justify_content": null,
            "_view_module": "@jupyter-widgets/base",
            "overflow": null,
            "_model_module_version": "1.2.0",
            "_view_count": null,
            "flex_flow": null,
            "width": null,
            "min_width": null,
            "border": null,
            "align_items": null,
            "bottom": null,
            "_model_module": "@jupyter-widgets/base",
            "top": null,
            "grid_column": null,
            "overflow_y": null,
            "overflow_x": null,
            "grid_auto_flow": null,
            "grid_area": null,
            "grid_template_columns": null,
            "flex": null,
            "_model_name": "LayoutModel",
            "justify_items": null,
            "grid_row": null,
            "max_height": null,
            "align_content": null,
            "visibility": null,
            "align_self": null,
            "height": null,
            "min_height": null,
            "padding": null,
            "grid_auto_rows": null,
            "grid_gap": null,
            "max_width": null,
            "order": null,
            "_view_module_version": "1.2.0",
            "grid_template_areas": null,
            "object_position": null,
            "object_fit": null,
            "grid_auto_columns": null,
            "margin": null,
            "display": null,
            "left": null
          }
        },
        "36b6d392446d46a2b15a725e6243625c": {
          "model_module": "@jupyter-widgets/controls",
          "model_name": "HTMLModel",
          "model_module_version": "1.5.0",
          "state": {
            "_view_name": "HTMLView",
            "style": "IPY_MODEL_c647c57698ed456ba5fc6462cf0cbc71",
            "_dom_classes": [],
            "description": "",
            "_model_name": "HTMLModel",
            "placeholder": "​",
            "_view_module": "@jupyter-widgets/controls",
            "_model_module_version": "1.5.0",
            "value": "",
            "_view_count": null,
            "_view_module_version": "1.5.0",
            "description_tooltip": null,
            "_model_module": "@jupyter-widgets/controls",
            "layout": "IPY_MODEL_701b337fba2649c88f72a75d7ef4ddf8"
          }
        },
        "94857abe58c74b30bf608815e3cb4183": {
          "model_module": "@jupyter-widgets/controls",
          "model_name": "FloatProgressModel",
          "model_module_version": "1.5.0",
          "state": {
            "_view_name": "ProgressView",
            "style": "IPY_MODEL_88bd30bbf3314b569089f60b80b16540",
            "_dom_classes": [],
            "description": "",
            "_model_name": "FloatProgressModel",
            "bar_style": "success",
            "max": 1648877,
            "_view_module": "@jupyter-widgets/controls",
            "_model_module_version": "1.5.0",
            "value": 1648877,
            "_view_count": null,
            "_view_module_version": "1.5.0",
            "orientation": "horizontal",
            "min": 0,
            "description_tooltip": null,
            "_model_module": "@jupyter-widgets/controls",
            "layout": "IPY_MODEL_1abbadd7fd6340cbb88458b0e5f83baa"
          }
        },
        "a6a1f84646b74ba482d43b668a015108": {
          "model_module": "@jupyter-widgets/controls",
          "model_name": "HTMLModel",
          "model_module_version": "1.5.0",
          "state": {
            "_view_name": "HTMLView",
            "style": "IPY_MODEL_c0e4c89ef8c2459fbf7d612543c5ebdb",
            "_dom_classes": [],
            "description": "",
            "_model_name": "HTMLModel",
            "placeholder": "​",
            "_view_module": "@jupyter-widgets/controls",
            "_model_module_version": "1.5.0",
            "value": " 1649664/? [00:00&lt;00:00, 6690640.65it/s]",
            "_view_count": null,
            "_view_module_version": "1.5.0",
            "description_tooltip": null,
            "_model_module": "@jupyter-widgets/controls",
            "layout": "IPY_MODEL_6eb18bb460484d8faed641a37971321c"
          }
        },
        "c647c57698ed456ba5fc6462cf0cbc71": {
          "model_module": "@jupyter-widgets/controls",
          "model_name": "DescriptionStyleModel",
          "model_module_version": "1.5.0",
          "state": {
            "_view_name": "StyleView",
            "_model_name": "DescriptionStyleModel",
            "description_width": "",
            "_view_module": "@jupyter-widgets/base",
            "_model_module_version": "1.5.0",
            "_view_count": null,
            "_view_module_version": "1.2.0",
            "_model_module": "@jupyter-widgets/controls"
          }
        },
        "701b337fba2649c88f72a75d7ef4ddf8": {
          "model_module": "@jupyter-widgets/base",
          "model_name": "LayoutModel",
          "model_module_version": "1.2.0",
          "state": {
            "_view_name": "LayoutView",
            "grid_template_rows": null,
            "right": null,
            "justify_content": null,
            "_view_module": "@jupyter-widgets/base",
            "overflow": null,
            "_model_module_version": "1.2.0",
            "_view_count": null,
            "flex_flow": null,
            "width": null,
            "min_width": null,
            "border": null,
            "align_items": null,
            "bottom": null,
            "_model_module": "@jupyter-widgets/base",
            "top": null,
            "grid_column": null,
            "overflow_y": null,
            "overflow_x": null,
            "grid_auto_flow": null,
            "grid_area": null,
            "grid_template_columns": null,
            "flex": null,
            "_model_name": "LayoutModel",
            "justify_items": null,
            "grid_row": null,
            "max_height": null,
            "align_content": null,
            "visibility": null,
            "align_self": null,
            "height": null,
            "min_height": null,
            "padding": null,
            "grid_auto_rows": null,
            "grid_gap": null,
            "max_width": null,
            "order": null,
            "_view_module_version": "1.2.0",
            "grid_template_areas": null,
            "object_position": null,
            "object_fit": null,
            "grid_auto_columns": null,
            "margin": null,
            "display": null,
            "left": null
          }
        },
        "88bd30bbf3314b569089f60b80b16540": {
          "model_module": "@jupyter-widgets/controls",
          "model_name": "ProgressStyleModel",
          "model_module_version": "1.5.0",
          "state": {
            "_view_name": "StyleView",
            "_model_name": "ProgressStyleModel",
            "description_width": "",
            "_view_module": "@jupyter-widgets/base",
            "_model_module_version": "1.5.0",
            "_view_count": null,
            "_view_module_version": "1.2.0",
            "bar_color": null,
            "_model_module": "@jupyter-widgets/controls"
          }
        },
        "1abbadd7fd6340cbb88458b0e5f83baa": {
          "model_module": "@jupyter-widgets/base",
          "model_name": "LayoutModel",
          "model_module_version": "1.2.0",
          "state": {
            "_view_name": "LayoutView",
            "grid_template_rows": null,
            "right": null,
            "justify_content": null,
            "_view_module": "@jupyter-widgets/base",
            "overflow": null,
            "_model_module_version": "1.2.0",
            "_view_count": null,
            "flex_flow": null,
            "width": null,
            "min_width": null,
            "border": null,
            "align_items": null,
            "bottom": null,
            "_model_module": "@jupyter-widgets/base",
            "top": null,
            "grid_column": null,
            "overflow_y": null,
            "overflow_x": null,
            "grid_auto_flow": null,
            "grid_area": null,
            "grid_template_columns": null,
            "flex": null,
            "_model_name": "LayoutModel",
            "justify_items": null,
            "grid_row": null,
            "max_height": null,
            "align_content": null,
            "visibility": null,
            "align_self": null,
            "height": null,
            "min_height": null,
            "padding": null,
            "grid_auto_rows": null,
            "grid_gap": null,
            "max_width": null,
            "order": null,
            "_view_module_version": "1.2.0",
            "grid_template_areas": null,
            "object_position": null,
            "object_fit": null,
            "grid_auto_columns": null,
            "margin": null,
            "display": null,
            "left": null
          }
        },
        "c0e4c89ef8c2459fbf7d612543c5ebdb": {
          "model_module": "@jupyter-widgets/controls",
          "model_name": "DescriptionStyleModel",
          "model_module_version": "1.5.0",
          "state": {
            "_view_name": "StyleView",
            "_model_name": "DescriptionStyleModel",
            "description_width": "",
            "_view_module": "@jupyter-widgets/base",
            "_model_module_version": "1.5.0",
            "_view_count": null,
            "_view_module_version": "1.2.0",
            "_model_module": "@jupyter-widgets/controls"
          }
        },
        "6eb18bb460484d8faed641a37971321c": {
          "model_module": "@jupyter-widgets/base",
          "model_name": "LayoutModel",
          "model_module_version": "1.2.0",
          "state": {
            "_view_name": "LayoutView",
            "grid_template_rows": null,
            "right": null,
            "justify_content": null,
            "_view_module": "@jupyter-widgets/base",
            "overflow": null,
            "_model_module_version": "1.2.0",
            "_view_count": null,
            "flex_flow": null,
            "width": null,
            "min_width": null,
            "border": null,
            "align_items": null,
            "bottom": null,
            "_model_module": "@jupyter-widgets/base",
            "top": null,
            "grid_column": null,
            "overflow_y": null,
            "overflow_x": null,
            "grid_auto_flow": null,
            "grid_area": null,
            "grid_template_columns": null,
            "flex": null,
            "_model_name": "LayoutModel",
            "justify_items": null,
            "grid_row": null,
            "max_height": null,
            "align_content": null,
            "visibility": null,
            "align_self": null,
            "height": null,
            "min_height": null,
            "padding": null,
            "grid_auto_rows": null,
            "grid_gap": null,
            "max_width": null,
            "order": null,
            "_view_module_version": "1.2.0",
            "grid_template_areas": null,
            "object_position": null,
            "object_fit": null,
            "grid_auto_columns": null,
            "margin": null,
            "display": null,
            "left": null
          }
        },
        "bf9c3462a8df408d97b02299115a9350": {
          "model_module": "@jupyter-widgets/controls",
          "model_name": "HBoxModel",
          "model_module_version": "1.5.0",
          "state": {
            "_view_name": "HBoxView",
            "_dom_classes": [],
            "_model_name": "HBoxModel",
            "_view_module": "@jupyter-widgets/controls",
            "_model_module_version": "1.5.0",
            "_view_count": null,
            "_view_module_version": "1.5.0",
            "box_style": "",
            "layout": "IPY_MODEL_a3612bfb74774b8193171e3b26bb7193",
            "_model_module": "@jupyter-widgets/controls",
            "children": [
              "IPY_MODEL_3988cc96f71d461485396cc0c5d3755d",
              "IPY_MODEL_79cfbc8a301b4b01803ea86b4bcb2f99",
              "IPY_MODEL_3bd6db8afdb149cfa560190a67aa0c9c"
            ]
          }
        },
        "a3612bfb74774b8193171e3b26bb7193": {
          "model_module": "@jupyter-widgets/base",
          "model_name": "LayoutModel",
          "model_module_version": "1.2.0",
          "state": {
            "_view_name": "LayoutView",
            "grid_template_rows": null,
            "right": null,
            "justify_content": null,
            "_view_module": "@jupyter-widgets/base",
            "overflow": null,
            "_model_module_version": "1.2.0",
            "_view_count": null,
            "flex_flow": null,
            "width": null,
            "min_width": null,
            "border": null,
            "align_items": null,
            "bottom": null,
            "_model_module": "@jupyter-widgets/base",
            "top": null,
            "grid_column": null,
            "overflow_y": null,
            "overflow_x": null,
            "grid_auto_flow": null,
            "grid_area": null,
            "grid_template_columns": null,
            "flex": null,
            "_model_name": "LayoutModel",
            "justify_items": null,
            "grid_row": null,
            "max_height": null,
            "align_content": null,
            "visibility": null,
            "align_self": null,
            "height": null,
            "min_height": null,
            "padding": null,
            "grid_auto_rows": null,
            "grid_gap": null,
            "max_width": null,
            "order": null,
            "_view_module_version": "1.2.0",
            "grid_template_areas": null,
            "object_position": null,
            "object_fit": null,
            "grid_auto_columns": null,
            "margin": null,
            "display": null,
            "left": null
          }
        },
        "3988cc96f71d461485396cc0c5d3755d": {
          "model_module": "@jupyter-widgets/controls",
          "model_name": "HTMLModel",
          "model_module_version": "1.5.0",
          "state": {
            "_view_name": "HTMLView",
            "style": "IPY_MODEL_ff41142a433c40efbc391ed864ce6e29",
            "_dom_classes": [],
            "description": "",
            "_model_name": "HTMLModel",
            "placeholder": "​",
            "_view_module": "@jupyter-widgets/controls",
            "_model_module_version": "1.5.0",
            "value": "",
            "_view_count": null,
            "_view_module_version": "1.5.0",
            "description_tooltip": null,
            "_model_module": "@jupyter-widgets/controls",
            "layout": "IPY_MODEL_4472292162a343ff9fa2850830883a81"
          }
        },
        "79cfbc8a301b4b01803ea86b4bcb2f99": {
          "model_module": "@jupyter-widgets/controls",
          "model_name": "FloatProgressModel",
          "model_module_version": "1.5.0",
          "state": {
            "_view_name": "ProgressView",
            "style": "IPY_MODEL_7e16aff493c54f87b8c61247291eeec6",
            "_dom_classes": [],
            "description": "",
            "_model_name": "FloatProgressModel",
            "bar_style": "success",
            "max": 4542,
            "_view_module": "@jupyter-widgets/controls",
            "_model_module_version": "1.5.0",
            "value": 4542,
            "_view_count": null,
            "_view_module_version": "1.5.0",
            "orientation": "horizontal",
            "min": 0,
            "description_tooltip": null,
            "_model_module": "@jupyter-widgets/controls",
            "layout": "IPY_MODEL_9ac0ea549335457a835dc2ab6b162055"
          }
        },
        "3bd6db8afdb149cfa560190a67aa0c9c": {
          "model_module": "@jupyter-widgets/controls",
          "model_name": "HTMLModel",
          "model_module_version": "1.5.0",
          "state": {
            "_view_name": "HTMLView",
            "style": "IPY_MODEL_f686d8b56b394bea8ce38e3c9949b89c",
            "_dom_classes": [],
            "description": "",
            "_model_name": "HTMLModel",
            "placeholder": "​",
            "_view_module": "@jupyter-widgets/controls",
            "_model_module_version": "1.5.0",
            "value": " 5120/? [00:00&lt;00:00, 138143.60it/s]",
            "_view_count": null,
            "_view_module_version": "1.5.0",
            "description_tooltip": null,
            "_model_module": "@jupyter-widgets/controls",
            "layout": "IPY_MODEL_25f4d1a1ae9b480fbdef4400ea421755"
          }
        },
        "ff41142a433c40efbc391ed864ce6e29": {
          "model_module": "@jupyter-widgets/controls",
          "model_name": "DescriptionStyleModel",
          "model_module_version": "1.5.0",
          "state": {
            "_view_name": "StyleView",
            "_model_name": "DescriptionStyleModel",
            "description_width": "",
            "_view_module": "@jupyter-widgets/base",
            "_model_module_version": "1.5.0",
            "_view_count": null,
            "_view_module_version": "1.2.0",
            "_model_module": "@jupyter-widgets/controls"
          }
        },
        "4472292162a343ff9fa2850830883a81": {
          "model_module": "@jupyter-widgets/base",
          "model_name": "LayoutModel",
          "model_module_version": "1.2.0",
          "state": {
            "_view_name": "LayoutView",
            "grid_template_rows": null,
            "right": null,
            "justify_content": null,
            "_view_module": "@jupyter-widgets/base",
            "overflow": null,
            "_model_module_version": "1.2.0",
            "_view_count": null,
            "flex_flow": null,
            "width": null,
            "min_width": null,
            "border": null,
            "align_items": null,
            "bottom": null,
            "_model_module": "@jupyter-widgets/base",
            "top": null,
            "grid_column": null,
            "overflow_y": null,
            "overflow_x": null,
            "grid_auto_flow": null,
            "grid_area": null,
            "grid_template_columns": null,
            "flex": null,
            "_model_name": "LayoutModel",
            "justify_items": null,
            "grid_row": null,
            "max_height": null,
            "align_content": null,
            "visibility": null,
            "align_self": null,
            "height": null,
            "min_height": null,
            "padding": null,
            "grid_auto_rows": null,
            "grid_gap": null,
            "max_width": null,
            "order": null,
            "_view_module_version": "1.2.0",
            "grid_template_areas": null,
            "object_position": null,
            "object_fit": null,
            "grid_auto_columns": null,
            "margin": null,
            "display": null,
            "left": null
          }
        },
        "7e16aff493c54f87b8c61247291eeec6": {
          "model_module": "@jupyter-widgets/controls",
          "model_name": "ProgressStyleModel",
          "model_module_version": "1.5.0",
          "state": {
            "_view_name": "StyleView",
            "_model_name": "ProgressStyleModel",
            "description_width": "",
            "_view_module": "@jupyter-widgets/base",
            "_model_module_version": "1.5.0",
            "_view_count": null,
            "_view_module_version": "1.2.0",
            "bar_color": null,
            "_model_module": "@jupyter-widgets/controls"
          }
        },
        "9ac0ea549335457a835dc2ab6b162055": {
          "model_module": "@jupyter-widgets/base",
          "model_name": "LayoutModel",
          "model_module_version": "1.2.0",
          "state": {
            "_view_name": "LayoutView",
            "grid_template_rows": null,
            "right": null,
            "justify_content": null,
            "_view_module": "@jupyter-widgets/base",
            "overflow": null,
            "_model_module_version": "1.2.0",
            "_view_count": null,
            "flex_flow": null,
            "width": null,
            "min_width": null,
            "border": null,
            "align_items": null,
            "bottom": null,
            "_model_module": "@jupyter-widgets/base",
            "top": null,
            "grid_column": null,
            "overflow_y": null,
            "overflow_x": null,
            "grid_auto_flow": null,
            "grid_area": null,
            "grid_template_columns": null,
            "flex": null,
            "_model_name": "LayoutModel",
            "justify_items": null,
            "grid_row": null,
            "max_height": null,
            "align_content": null,
            "visibility": null,
            "align_self": null,
            "height": null,
            "min_height": null,
            "padding": null,
            "grid_auto_rows": null,
            "grid_gap": null,
            "max_width": null,
            "order": null,
            "_view_module_version": "1.2.0",
            "grid_template_areas": null,
            "object_position": null,
            "object_fit": null,
            "grid_auto_columns": null,
            "margin": null,
            "display": null,
            "left": null
          }
        },
        "f686d8b56b394bea8ce38e3c9949b89c": {
          "model_module": "@jupyter-widgets/controls",
          "model_name": "DescriptionStyleModel",
          "model_module_version": "1.5.0",
          "state": {
            "_view_name": "StyleView",
            "_model_name": "DescriptionStyleModel",
            "description_width": "",
            "_view_module": "@jupyter-widgets/base",
            "_model_module_version": "1.5.0",
            "_view_count": null,
            "_view_module_version": "1.2.0",
            "_model_module": "@jupyter-widgets/controls"
          }
        },
        "25f4d1a1ae9b480fbdef4400ea421755": {
          "model_module": "@jupyter-widgets/base",
          "model_name": "LayoutModel",
          "model_module_version": "1.2.0",
          "state": {
            "_view_name": "LayoutView",
            "grid_template_rows": null,
            "right": null,
            "justify_content": null,
            "_view_module": "@jupyter-widgets/base",
            "overflow": null,
            "_model_module_version": "1.2.0",
            "_view_count": null,
            "flex_flow": null,
            "width": null,
            "min_width": null,
            "border": null,
            "align_items": null,
            "bottom": null,
            "_model_module": "@jupyter-widgets/base",
            "top": null,
            "grid_column": null,
            "overflow_y": null,
            "overflow_x": null,
            "grid_auto_flow": null,
            "grid_area": null,
            "grid_template_columns": null,
            "flex": null,
            "_model_name": "LayoutModel",
            "justify_items": null,
            "grid_row": null,
            "max_height": null,
            "align_content": null,
            "visibility": null,
            "align_self": null,
            "height": null,
            "min_height": null,
            "padding": null,
            "grid_auto_rows": null,
            "grid_gap": null,
            "max_width": null,
            "order": null,
            "_view_module_version": "1.2.0",
            "grid_template_areas": null,
            "object_position": null,
            "object_fit": null,
            "grid_auto_columns": null,
            "margin": null,
            "display": null,
            "left": null
          }
        }
      }
    }
  },
  "cells": [
    {
      "cell_type": "markdown",
      "metadata": {
        "id": "view-in-github",
        "colab_type": "text"
      },
      "source": [
        "<a href=\"https://colab.research.google.com/github/Azitt/ML_pytorch_Audioprocessing/blob/main/ML_Classification.ipynb\" target=\"_parent\"><img src=\"https://colab.research.google.com/assets/colab-badge.svg\" alt=\"Open In Colab\"/></a>"
      ]
    },
    {
      "cell_type": "markdown",
      "source": [
        " A classical application is the classification of handwritten digits(60000 gray-scale images of handwritten images of size 28x28 pixels). The network input are the images, and each image belongs to one of the 10 digit classes, 0 to 9.\n",
        "\n",
        "The network has as many outputs as classes (10 in the digit example), and each output might represent the probability that the image at the networks input belongs to the corresponding class. The probabilities must add up to 1. "
      ],
      "metadata": {
        "id": "227b4oBSZWdQ"
      }
    },
    {
      "cell_type": "code",
      "execution_count": 1,
      "metadata": {
        "id": "ygdDQaSPZQ-7"
      },
      "outputs": [],
      "source": [
        "import numpy\n",
        "import matplotlib.pyplot as plt\n",
        "import torch\n",
        "import torchvision\n",
        "import torch.nn.functional as F\n",
        "import torch.nn as nn\n",
        "import time\n",
        "\n",
        "device='cpu'"
      ]
    },
    {
      "cell_type": "code",
      "source": [
        "batch_size_train = 100\n",
        "batch_size_test = 10\n",
        "num_classes = 10  #10 classes according to the 10 possible digits 0,...,9"
      ],
      "metadata": {
        "id": "ME7WCmf-eGyA"
      },
      "execution_count": 3,
      "outputs": []
    },
    {
      "cell_type": "code",
      "source": [
        "train_loader = torch.utils.data.DataLoader(\n",
        "    torchvision.datasets.MNIST('~/Downloads/MNISTfiles/', \n",
        "    train=True, download=True,\n",
        "    transform=torchvision.transforms.Compose([torchvision.transforms.ToTensor(),\n",
        "    torchvision.transforms.Normalize((0.1307,), (0.3081,))])),\n",
        "    batch_size=batch_size_train, shuffle=True)\n",
        "#the Normalize() arguments are mean and standard deviation.\n",
        "\n",
        "test_loader = torch.utils.data.DataLoader(\n",
        "    torchvision.datasets.MNIST('~/Downloads/MNISTfiles/', \n",
        "                               train=False, download=True,\n",
        "                               transform=torchvision.transforms.Compose(\n",
        "                                   [torchvision.transforms.ToTensor(),\n",
        "                                    torchvision.transforms.Normalize((0.1307,), (0.3081,))])),\n",
        "    batch_size=batch_size_test, shuffle=True)\n",
        "\n",
        "\n",
        "examples = enumerate(train_loader)"
      ],
      "metadata": {
        "colab": {
          "base_uri": "https://localhost:8080/",
          "height": 423,
          "referenced_widgets": [
            "771718449a2e475b8e665ff6be3123b7",
            "cce11395950943908ec57c23cefa0b29",
            "06a813eaa5f24f5693bacfd7127e003e",
            "ba123c7ee2d04099b428a00a7232a3ee",
            "d1e9d7212ebd479a8649b5f94e1f3f13",
            "1b2ccdf8bf4d450c9394de753e5c1be3",
            "ea91269f26674a9b8a38ceeef3f034a0",
            "213f40ca5b52453cb18e9124bc0738bb",
            "431b67a5cc7a40778deeefce13941fb7",
            "6a1d9611e15e46c395ffcc8c850187fc",
            "93dfeb0a1f3640bf839403e4cfd38e34",
            "c04a55e3e5b84434bfb7e44a7935449e",
            "a9c5343ca3c64462b4233661216af8d8",
            "250c6f32b5f84fd383e6d33f2ff72a84",
            "fc21ab662a2c4d88a79e6ea36a278ea2",
            "c03b4968163e4a2ca4c26301b7945ded",
            "3282e359624e421aac03f2528887d106",
            "3210d70881a140d49339e8e8aae218da",
            "290767e6897848608f5255d16c324535",
            "1e9ef6590a8c48eb9b3ebe83e0cfab8d",
            "f44ff7813fae48a8b040282016bb1122",
            "dc961e66b407487c92a87165878cb962",
            "44d689754f814089a61a0cde9d29b1a6",
            "2291d1baa4d6473daa71f9abd6a3e3d8",
            "36b6d392446d46a2b15a725e6243625c",
            "94857abe58c74b30bf608815e3cb4183",
            "a6a1f84646b74ba482d43b668a015108",
            "c647c57698ed456ba5fc6462cf0cbc71",
            "701b337fba2649c88f72a75d7ef4ddf8",
            "88bd30bbf3314b569089f60b80b16540",
            "1abbadd7fd6340cbb88458b0e5f83baa",
            "c0e4c89ef8c2459fbf7d612543c5ebdb",
            "6eb18bb460484d8faed641a37971321c",
            "bf9c3462a8df408d97b02299115a9350",
            "a3612bfb74774b8193171e3b26bb7193",
            "3988cc96f71d461485396cc0c5d3755d",
            "79cfbc8a301b4b01803ea86b4bcb2f99",
            "3bd6db8afdb149cfa560190a67aa0c9c",
            "ff41142a433c40efbc391ed864ce6e29",
            "4472292162a343ff9fa2850830883a81",
            "7e16aff493c54f87b8c61247291eeec6",
            "9ac0ea549335457a835dc2ab6b162055",
            "f686d8b56b394bea8ce38e3c9949b89c",
            "25f4d1a1ae9b480fbdef4400ea421755"
          ]
        },
        "id": "5F_N_yFieP-P",
        "outputId": "ea535c11-5718-4005-d5e1-249d78e19b78"
      },
      "execution_count": 4,
      "outputs": [
        {
          "output_type": "stream",
          "name": "stdout",
          "text": [
            "Downloading http://yann.lecun.com/exdb/mnist/train-images-idx3-ubyte.gz\n",
            "Downloading http://yann.lecun.com/exdb/mnist/train-images-idx3-ubyte.gz to /root/Downloads/MNISTfiles/MNIST/raw/train-images-idx3-ubyte.gz\n"
          ]
        },
        {
          "output_type": "display_data",
          "data": {
            "application/vnd.jupyter.widget-view+json": {
              "model_id": "771718449a2e475b8e665ff6be3123b7",
              "version_minor": 0,
              "version_major": 2
            },
            "text/plain": [
              "  0%|          | 0/9912422 [00:00<?, ?it/s]"
            ]
          },
          "metadata": {}
        },
        {
          "output_type": "stream",
          "name": "stdout",
          "text": [
            "Extracting /root/Downloads/MNISTfiles/MNIST/raw/train-images-idx3-ubyte.gz to /root/Downloads/MNISTfiles/MNIST/raw\n",
            "\n",
            "Downloading http://yann.lecun.com/exdb/mnist/train-labels-idx1-ubyte.gz\n",
            "Downloading http://yann.lecun.com/exdb/mnist/train-labels-idx1-ubyte.gz to /root/Downloads/MNISTfiles/MNIST/raw/train-labels-idx1-ubyte.gz\n"
          ]
        },
        {
          "output_type": "display_data",
          "data": {
            "application/vnd.jupyter.widget-view+json": {
              "model_id": "c04a55e3e5b84434bfb7e44a7935449e",
              "version_minor": 0,
              "version_major": 2
            },
            "text/plain": [
              "  0%|          | 0/28881 [00:00<?, ?it/s]"
            ]
          },
          "metadata": {}
        },
        {
          "output_type": "stream",
          "name": "stdout",
          "text": [
            "Extracting /root/Downloads/MNISTfiles/MNIST/raw/train-labels-idx1-ubyte.gz to /root/Downloads/MNISTfiles/MNIST/raw\n",
            "\n",
            "Downloading http://yann.lecun.com/exdb/mnist/t10k-images-idx3-ubyte.gz\n",
            "Downloading http://yann.lecun.com/exdb/mnist/t10k-images-idx3-ubyte.gz to /root/Downloads/MNISTfiles/MNIST/raw/t10k-images-idx3-ubyte.gz\n"
          ]
        },
        {
          "output_type": "display_data",
          "data": {
            "application/vnd.jupyter.widget-view+json": {
              "model_id": "44d689754f814089a61a0cde9d29b1a6",
              "version_minor": 0,
              "version_major": 2
            },
            "text/plain": [
              "  0%|          | 0/1648877 [00:00<?, ?it/s]"
            ]
          },
          "metadata": {}
        },
        {
          "output_type": "stream",
          "name": "stdout",
          "text": [
            "Extracting /root/Downloads/MNISTfiles/MNIST/raw/t10k-images-idx3-ubyte.gz to /root/Downloads/MNISTfiles/MNIST/raw\n",
            "\n",
            "Downloading http://yann.lecun.com/exdb/mnist/t10k-labels-idx1-ubyte.gz\n",
            "Downloading http://yann.lecun.com/exdb/mnist/t10k-labels-idx1-ubyte.gz to /root/Downloads/MNISTfiles/MNIST/raw/t10k-labels-idx1-ubyte.gz\n"
          ]
        },
        {
          "output_type": "display_data",
          "data": {
            "application/vnd.jupyter.widget-view+json": {
              "model_id": "bf9c3462a8df408d97b02299115a9350",
              "version_minor": 0,
              "version_major": 2
            },
            "text/plain": [
              "  0%|          | 0/4542 [00:00<?, ?it/s]"
            ]
          },
          "metadata": {}
        },
        {
          "output_type": "stream",
          "name": "stdout",
          "text": [
            "Extracting /root/Downloads/MNISTfiles/MNIST/raw/t10k-labels-idx1-ubyte.gz to /root/Downloads/MNISTfiles/MNIST/raw\n",
            "\n"
          ]
        }
      ]
    },
    {
      "cell_type": "code",
      "source": [
        "batch_idx, (X_train, y_train) = next(examples)\n",
        "print( \"X_train.type()=\",X_train.type(), \"y_train.type()=\",y_train.type())\n",
        "print(\"batch_idx=\", batch_idx, \"X_train.shape=\", X_train.shape, \"y_train.shape=\", y_train.shape, \"y_train=\", y_train)\n",
        "examples = enumerate(test_loader)\n",
        "#one batch of 100 images:\n",
        "batch_idx, (X_test, y_test) = next(examples)\n",
        "\n",
        "# plot 4 images as gray scale\n",
        "plt.subplot(221)\n",
        "plt.title(\"Some Images of the Trainigs Set\")\n",
        "plt.imshow(X_train[0,0], cmap=plt.get_cmap('gray'))\n",
        "plt.subplot(222)\n",
        "plt.imshow(X_train[1,0], cmap=plt.get_cmap('gray'))\n",
        "plt.subplot(223)\n",
        "plt.imshow(X_train[2,0], cmap=plt.get_cmap('gray'))\n",
        "plt.subplot(224)\n",
        "plt.imshow(X_train[3,0], cmap=plt.get_cmap('gray'))\n",
        "# show the plot\n",
        "plt.show()"
      ],
      "metadata": {
        "colab": {
          "base_uri": "https://localhost:8080/",
          "height": 385
        },
        "id": "DQFzRxZkenmH",
        "outputId": "cf91955c-4a0f-45e4-ef77-1fbbfd8fc87d"
      },
      "execution_count": 5,
      "outputs": [
        {
          "output_type": "stream",
          "name": "stdout",
          "text": [
            "X_train.type()= torch.FloatTensor y_train.type()= torch.LongTensor\n",
            "batch_idx= 0 X_train.shape= torch.Size([100, 1, 28, 28]) y_train.shape= torch.Size([100]) y_train= tensor([8, 4, 7, 6, 9, 3, 4, 7, 5, 5, 1, 5, 4, 9, 4, 1, 9, 9, 7, 2, 0, 6, 5, 3,\n",
            "        6, 7, 1, 9, 0, 0, 8, 6, 9, 3, 2, 5, 4, 2, 5, 4, 8, 3, 1, 1, 5, 9, 8, 1,\n",
            "        6, 3, 8, 0, 6, 6, 6, 0, 2, 9, 8, 1, 9, 0, 7, 6, 5, 0, 9, 9, 3, 7, 4, 7,\n",
            "        1, 2, 1, 4, 3, 1, 7, 0, 1, 2, 8, 9, 0, 5, 7, 6, 1, 4, 0, 7, 4, 9, 6, 0,\n",
            "        5, 2, 9, 7])\n"
          ]
        },
        {
          "output_type": "display_data",
          "data": {
            "image/png": "[encoded data removed]",
            "text/plain": [
              "<Figure size 432x288 with 4 Axes>"
            ]
          },
          "metadata": {
            "needs_background": "light"
          }
        }
      ]
    },
    {
      "cell_type": "markdown",
      "source": [
        "X_train.shape= torch.Size([100, 1, 28, 28])  \n",
        "100 = the number of images , 1 = batch size , 28*28 = vertically and horizontally pixels.\n",
        "\n",
        "y_train.shape= torch.Size([100])\n",
        "\n",
        "shape of the target, which is a 1-dimensional array of 100 entries."
      ],
      "metadata": {
        "id": "BUkeuOx5e-ZG"
      }
    },
    {
      "cell_type": "markdown",
      "source": [
        "the loss function is \"CrossEntropyLoss\" and measures about how different 2 probability distributions are.\n",
        "![image.png](data:image/png;base64,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)"
      ],
      "metadata": {
        "id": "2RS4lKJVgc5y"
      }
    },
    {
      "cell_type": "code",
      "source": [
        "X_testunflat=X_test.clone() #keep original for imshow later\n",
        "# flatten 28*28 images to a 784 vector for each image\n",
        "num_pixels = X_train.shape[2] * X_train.shape[3]"
      ],
      "metadata": {
        "id": "cEmM8SPAezCP"
      },
      "execution_count": 6,
      "outputs": []
    },
    {
      "cell_type": "markdown",
      "source": [
        "# define the neural network model"
      ],
      "metadata": {
        "id": "2n6V1MrBk27B"
      }
    },
    {
      "cell_type": "code",
      "source": [
        "class DenseNet(nn.Module):\n",
        "    def __init__(self):\n",
        "        super(DenseNet, self).__init__()\n",
        "        self.layer1=nn.Sequential(nn.Linear(in_features=num_pixels, out_features=num_pixels))\n",
        "        self.layer2=nn.Sequential(nn.Linear(in_features=num_pixels, out_features=num_classes))\n",
        "      \n",
        "   \n",
        "    def forward(self, x):\n",
        "        x = F.relu(self.layer1(x))  #First layer with activation function\n",
        "        x = self.layer2(x)   #Second layer\n",
        "        #x = torch.nn.Softmax(x)\n",
        "        return x"
      ],
      "metadata": {
        "id": "DGG5kwiyd75g"
      },
      "execution_count": 2,
      "outputs": []
    },
    {
      "cell_type": "markdown",
      "source": [
        "#Flatten the images"
      ],
      "metadata": {
        "id": "IMG26T2Vk6r3"
      }
    },
    {
      "cell_type": "code",
      "source": [
        "X_train = X_train.view(X_train.shape[0], num_pixels)\n",
        "print(\"X_train.shape=\",X_train.shape)\n",
        "X_test = X_test.reshape(X_test.shape[0], num_pixels)\n",
        "print(\"X_test.shape=\",X_test.shape)"
      ],
      "metadata": {
        "colab": {
          "base_uri": "https://localhost:8080/"
        },
        "id": "Xiom1aRphD2J",
        "outputId": "343c8ec5-46e9-4f31-9d9a-0ac026fe4edf"
      },
      "execution_count": 7,
      "outputs": [
        {
          "output_type": "stream",
          "name": "stdout",
          "text": [
            "X_train.shape= torch.Size([100, 784])\n",
            "X_test.shape= torch.Size([10, 784])\n"
          ]
        }
      ]
    },
    {
      "cell_type": "markdown",
      "source": [
        "# build the model"
      ],
      "metadata": {
        "id": "NGnXpTftlARY"
      }
    },
    {
      "cell_type": "code",
      "source": [
        "model = DenseNet()#.to('cpu')    \n",
        "loss_fn = nn.CrossEntropyLoss()\n",
        "optimizer = torch.optim.Adam(model.parameters())#, lr=learning_rate)\n",
        "# Fit the model\n",
        "X_train=X_train.to(device)\n",
        "y_train=y_train.to(device)"
      ],
      "metadata": {
        "id": "q_PxulAWkovH"
      },
      "execution_count": 10,
      "outputs": []
    },
    {
      "cell_type": "code",
      "source": [
        "starttime=time.time()\n",
        "for epoch in range(10):\n",
        "    Ypred=model(X_train)\n",
        "    loss=loss_fn(Ypred, y_train)\n",
        "    if epoch%2==0:\n",
        "        print(epoch, loss.item())\n",
        "    optimizer.zero_grad()\n",
        "    loss.backward()\n",
        "    optimizer.step()\n",
        "       \n",
        "endtime=time.time()\n",
        "print(\"Duration of optimization:\", endtime-starttime)"
      ],
      "metadata": {
        "colab": {
          "base_uri": "https://localhost:8080/"
        },
        "id": "4VKd8w3JlP4w",
        "outputId": "995fd8c8-15e3-45bf-90f7-e55fef92099e"
      },
      "execution_count": 11,
      "outputs": [
        {
          "output_type": "stream",
          "name": "stdout",
          "text": [
            "0 2.3236582279205322\n",
            "2 1.1740723848342896\n",
            "4 0.5760006904602051\n",
            "6 0.2895786464214325\n",
            "8 0.14311107993125916\n",
            "Duration of optimization: 0.2849431037902832\n"
          ]
        }
      ]
    },
    {
      "cell_type": "markdown",
      "source": [
        "# Final evaluation of the model"
      ],
      "metadata": {
        "id": "PZjh15zbl26X"
      }
    },
    {
      "cell_type": "code",
      "source": [
        "Ypred=model(X_test)\n",
        "loss=loss_fn(Ypred, y_test)\n",
        "#scores = model.forward(X_test, y_test, verbose=0)\n",
        "print(\"Loss on the test set:\", loss)\n",
        "\n",
        "torch.save({'model_state_dict': model.state_dict(),\n",
        "       'optimizer_state_dict': optimizer.state_dict()}, \"mnistexample_pytorch_weights.torch\")\n",
        "print(\"Wrote to mnistexample_pytorch_weights.torch\")"
      ],
      "metadata": {
        "colab": {
          "base_uri": "https://localhost:8080/"
        },
        "id": "w3oCLwwNl8AP",
        "outputId": "2795fb9b-82e9-49fb-a8f9-9f4dc188c1f7"
      },
      "execution_count": 12,
      "outputs": [
        {
          "output_type": "stream",
          "name": "stdout",
          "text": [
            "Loss on the test set: tensor(0.4793, grad_fn=<NllLossBackward0>)\n",
            "Wrote to mnistexample_pytorch_weights.torch\n"
          ]
        }
      ]
    },
    {
      "cell_type": "markdown",
      "source": [
        "#\"Inference\", predict an example digit test image:"
      ],
      "metadata": {
        "id": "jfFapfb4mono"
      }
    },
    {
      "cell_type": "code",
      "source": [
        "plt.imshow(X_testunflat[1,0], cmap=plt.get_cmap('gray'))\n",
        "plt.title(\"A Digit Image to Regognize as a Test (predicted digit in the shell)\")\n",
        "\n",
        "sample=X_test[1,:]\n",
        "print(\"sample.shape=\", sample.shape)\n",
        "Ypred=model(sample)\n",
        "print(\"Test Ypred=\", Ypred)\n",
        "prediction=torch.argmax(Ypred) #use argmax as the class with the largest output\n",
        "print(\"prediction=\", prediction)\n",
        "\n",
        "plt.show()"
      ],
      "metadata": {
        "colab": {
          "base_uri": "https://localhost:8080/",
          "height": 350
        },
        "id": "FjavFyVamrhZ",
        "outputId": "29e329ea-7c20-4367-9619-c2b7f2cc01a6"
      },
      "execution_count": 13,
      "outputs": [
        {
          "output_type": "stream",
          "name": "stdout",
          "text": [
            "sample.shape= torch.Size([784])\n",
            "Test Ypred= tensor([ 3.4547, -1.9759,  1.9475, -3.6746, -1.4648,  0.7912,  3.8370, -1.2211,\n",
            "        -1.5775, -2.2210], grad_fn=<AddBackward0>)\n",
            "prediction= tensor(6)\n"
          ]
        },
        {
          "output_type": "display_data",
          "data": {
            "image/png": "[encoded data removed]",
            "text/plain": [
              "<Figure size 432x288 with 1 Axes>"
            ]
          },
          "metadata": {
            "needs_background": "light"
          }
        }
      ]
    }
  ]
}